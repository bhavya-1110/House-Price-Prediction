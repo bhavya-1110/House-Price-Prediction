{
 "cells": [
  {
   "cell_type": "code",
   "execution_count": null,
   "metadata": {},
   "outputs": [],
   "source": [
   ]
  },
  {
   "cell_type": "code",
   "execution_count": 3,
   "metadata": {},
   "outputs": [],
   "source": [
    "import numpy as np\n",
    "import pandas as pd\n",
    "import matplotlib.pyplot as plt\n",
    "import seaborn as sns"
   ]
  },
  {
   "cell_type": "code",
   "execution_count": 4,
   "metadata": {},
   "outputs": [],
   "source": [
    "housing = pd.read_csv('housing.csv')"
   ]
  },
  {
   "cell_type": "code",
   "execution_count": 5,
   "metadata": {},
   "outputs": [
    {
     "data": {
      "text/html": [
       "<div>\n",
       "<style scoped>\n",
       "    .dataframe tbody tr th:only-of-type {\n",
       "        vertical-align: middle;\n",
       "    }\n",
       "\n",
       "    .dataframe tbody tr th {\n",
       "        vertical-align: top;\n",
       "    }\n",
       "\n",
       "    .dataframe thead th {\n",
       "        text-align: right;\n",
       "    }\n",
       "</style>\n",
       "<table border=\"1\" class=\"dataframe\">\n",
       "  <thead>\n",
       "    <tr style=\"text-align: right;\">\n",
       "      <th></th>\n",
       "      <th>longitude</th>\n",
       "      <th>latitude</th>\n",
       "      <th>housing_median_age</th>\n",
       "      <th>total_rooms</th>\n",
       "      <th>total_bedrooms</th>\n",
       "      <th>population</th>\n",
       "      <th>households</th>\n",
       "      <th>median_income</th>\n",
       "      <th>median_house_value</th>\n",
       "      <th>ocean_proximity</th>\n",
       "    </tr>\n",
       "  </thead>\n",
       "  <tbody>\n",
       "    <tr>\n",
       "      <th>0</th>\n",
       "      <td>-122.23</td>\n",
       "      <td>37.88</td>\n",
       "      <td>41.0</td>\n",
       "      <td>880.0</td>\n",
       "      <td>129.0</td>\n",
       "      <td>322.0</td>\n",
       "      <td>126.0</td>\n",
       "      <td>8.3252</td>\n",
       "      <td>452600.0</td>\n",
       "      <td>NEAR BAY</td>\n",
       "    </tr>\n",
       "    <tr>\n",
       "      <th>1</th>\n",
       "      <td>-122.22</td>\n",
       "      <td>37.86</td>\n",
       "      <td>21.0</td>\n",
       "      <td>7099.0</td>\n",
       "      <td>1106.0</td>\n",
       "      <td>2401.0</td>\n",
       "      <td>1138.0</td>\n",
       "      <td>8.3014</td>\n",
       "      <td>358500.0</td>\n",
       "      <td>NEAR BAY</td>\n",
       "    </tr>\n",
       "    <tr>\n",
       "      <th>2</th>\n",
       "      <td>-122.24</td>\n",
       "      <td>37.85</td>\n",
       "      <td>52.0</td>\n",
       "      <td>1467.0</td>\n",
       "      <td>190.0</td>\n",
       "      <td>496.0</td>\n",
       "      <td>177.0</td>\n",
       "      <td>7.2574</td>\n",
       "      <td>352100.0</td>\n",
       "      <td>NEAR BAY</td>\n",
       "    </tr>\n",
       "    <tr>\n",
       "      <th>3</th>\n",
       "      <td>-122.25</td>\n",
       "      <td>37.85</td>\n",
       "      <td>52.0</td>\n",
       "      <td>1274.0</td>\n",
       "      <td>235.0</td>\n",
       "      <td>558.0</td>\n",
       "      <td>219.0</td>\n",
       "      <td>5.6431</td>\n",
       "      <td>341300.0</td>\n",
       "      <td>NEAR BAY</td>\n",
       "    </tr>\n",
       "    <tr>\n",
       "      <th>4</th>\n",
       "      <td>-122.25</td>\n",
       "      <td>37.85</td>\n",
       "      <td>52.0</td>\n",
       "      <td>1627.0</td>\n",
       "      <td>280.0</td>\n",
       "      <td>565.0</td>\n",
       "      <td>259.0</td>\n",
       "      <td>3.8462</td>\n",
       "      <td>342200.0</td>\n",
       "      <td>NEAR BAY</td>\n",
       "    </tr>\n",
       "  </tbody>\n",
       "</table>\n",
       "</div>"
      ],
      "text/plain": [
       "   longitude  latitude  housing_median_age  total_rooms  total_bedrooms  \\\n",
       "0    -122.23     37.88                41.0        880.0           129.0   \n",
       "1    -122.22     37.86                21.0       7099.0          1106.0   \n",
       "2    -122.24     37.85                52.0       1467.0           190.0   \n",
       "3    -122.25     37.85                52.0       1274.0           235.0   \n",
       "4    -122.25     37.85                52.0       1627.0           280.0   \n",
       "\n",
       "   population  households  median_income  median_house_value ocean_proximity  \n",
       "0       322.0       126.0         8.3252            452600.0        NEAR BAY  \n",
       "1      2401.0      1138.0         8.3014            358500.0        NEAR BAY  \n",
       "2       496.0       177.0         7.2574            352100.0        NEAR BAY  \n",
       "3       558.0       219.0         5.6431            341300.0        NEAR BAY  \n",
       "4       565.0       259.0         3.8462            342200.0        NEAR BAY  "
      ]
     },
     "execution_count": 5,
     "metadata": {},
     "output_type": "execute_result"
    }
   ],
   "source": [
    "housing.head()"
   ]
  },
  {
   "cell_type": "code",
   "execution_count": 6,
   "metadata": {},
   "outputs": [],
   "source": [
    "nan_val = pd.isnull(housing)"
   ]
  },
  {
   "cell_type": "code",
   "execution_count": 7,
   "metadata": {},
   "outputs": [
    {
     "data": {
      "text/plain": [
       "longitude               0\n",
       "latitude                0\n",
       "housing_median_age      0\n",
       "total_rooms             0\n",
       "total_bedrooms        207\n",
       "population              0\n",
       "households              0\n",
       "median_income           0\n",
       "median_house_value      0\n",
       "ocean_proximity         0\n",
       "dtype: int64"
      ]
     },
     "execution_count": 7,
     "metadata": {},
     "output_type": "execute_result"
    }
   ],
   "source": [
    "nan_val.sum()"
   ]
  },
  {
   "cell_type": "code",
   "execution_count": 8,
   "metadata": {},
   "outputs": [],
   "source": [
    "housing['total_bedrooms'] = housing['total_bedrooms'].fillna(housing['total_bedrooms'].mean()) "
   ]
  },
  {
   "cell_type": "code",
   "execution_count": 9,
   "metadata": {},
   "outputs": [
    {
     "data": {
      "text/plain": [
       "0         129.0\n",
       "1        1106.0\n",
       "2         190.0\n",
       "3         235.0\n",
       "4         280.0\n",
       "          ...  \n",
       "20635     374.0\n",
       "20636     150.0\n",
       "20637     485.0\n",
       "20638     409.0\n",
       "20639     616.0\n",
       "Name: total_bedrooms, Length: 20640, dtype: float64"
      ]
     },
     "execution_count": 9,
     "metadata": {},
     "output_type": "execute_result"
    }
   ],
   "source": [
    "housing['total_bedrooms']"
   ]
  },
  {
   "cell_type": "code",
   "execution_count": 10,
   "metadata": {},
   "outputs": [],
   "source": [
    "nan_val2 = pd.isnull(housing['total_bedrooms'])"
   ]
  },
  {
   "cell_type": "code",
   "execution_count": 11,
   "metadata": {},
   "outputs": [
    {
     "data": {
      "text/plain": [
       "0"
      ]
     },
     "execution_count": 11,
     "metadata": {},
     "output_type": "execute_result"
    }
   ],
   "source": [
    "nan_val2.sum()"
   ]
  },
  {
   "cell_type": "code",
   "execution_count": 12,
   "metadata": {},
   "outputs": [],
   "source": [
    "from sklearn.preprocessing import OrdinalEncoder\n",
    "ord_encoder = OrdinalEncoder()"
   ]
  },
  {
   "cell_type": "code",
   "execution_count": 13,
   "metadata": {},
   "outputs": [],
   "source": [
    "ocean_col = housing[[\"ocean_proximity\"]]\n",
    "encoded_ocean = ord_encoder.fit_transform(ocean_col)"
   ]
  },
  {
   "cell_type": "code",
   "execution_count": 12,
   "metadata": {},
   "outputs": [],
   "source": [
    "encoded_ocean.dtype\n",
    "housing = housing.drop([\"ocean_proximity\"],axis=1)"
   ]
  },
  {
   "cell_type": "code",
   "execution_count": 13,
   "metadata": {},
   "outputs": [],
   "source": [
    "housing[\"ocean_proximity_num\"] = encoded_ocean"
   ]
  },
  {
   "cell_type": "code",
   "execution_count": 14,
   "metadata": {},
   "outputs": [],
   "source": [
    "shuffled_indices = np.random.permutation(len(housing))\n",
    "test_size = int(len(housing)*0.2)\n",
    "test_indices = shuffled_indices[:test_size]\n",
    "train_indices = shuffled_indices[test_size:]\n",
    "train_data = housing.iloc[train_indices]\n",
    "test_data = housing.iloc[test_indices]\n",
    "\n",
    "Y_train = train_data['median_house_value']\n",
    "X_train = pd.DataFrame(train_data)\n",
    "X_train = X_train.drop(['median_house_value'],axis=1)\n",
    "\n",
    "Y_test = test_data['median_house_value']\n",
    "X_test = pd.DataFrame(test_data)\n",
    "X_test = X_test.drop(['median_house_value'],axis=1)"
   ]
  },
  {
   "cell_type": "code",
   "execution_count": 15,
   "metadata": {},
   "outputs": [],
   "source": [
    "corr = X_train.corr()"
   ]
  },
  {
   "cell_type": "code",
   "execution_count": 16,
   "metadata": {},
   "outputs": [
    {
     "data": {
      "text/html": [
       "<div>\n",
       "<style scoped>\n",
       "    .dataframe tbody tr th:only-of-type {\n",
       "        vertical-align: middle;\n",
       "    }\n",
       "\n",
       "    .dataframe tbody tr th {\n",
       "        vertical-align: top;\n",
       "    }\n",
       "\n",
       "    .dataframe thead th {\n",
       "        text-align: right;\n",
       "    }\n",
       "</style>\n",
       "<table border=\"1\" class=\"dataframe\">\n",
       "  <thead>\n",
       "    <tr style=\"text-align: right;\">\n",
       "      <th></th>\n",
       "      <th>longitude</th>\n",
       "      <th>latitude</th>\n",
       "      <th>housing_median_age</th>\n",
       "      <th>total_rooms</th>\n",
       "      <th>total_bedrooms</th>\n",
       "      <th>population</th>\n",
       "      <th>households</th>\n",
       "      <th>median_income</th>\n",
       "      <th>ocean_proximity_num</th>\n",
       "    </tr>\n",
       "  </thead>\n",
       "  <tbody>\n",
       "    <tr>\n",
       "      <th>longitude</th>\n",
       "      <td>1.000000</td>\n",
       "      <td>-0.924249</td>\n",
       "      <td>-0.112727</td>\n",
       "      <td>0.047573</td>\n",
       "      <td>0.073097</td>\n",
       "      <td>0.102550</td>\n",
       "      <td>0.058759</td>\n",
       "      <td>-0.015380</td>\n",
       "      <td>-0.290423</td>\n",
       "    </tr>\n",
       "    <tr>\n",
       "      <th>latitude</th>\n",
       "      <td>-0.924249</td>\n",
       "      <td>1.000000</td>\n",
       "      <td>0.015317</td>\n",
       "      <td>-0.039771</td>\n",
       "      <td>-0.071096</td>\n",
       "      <td>-0.112355</td>\n",
       "      <td>-0.075429</td>\n",
       "      <td>-0.080261</td>\n",
       "      <td>0.201329</td>\n",
       "    </tr>\n",
       "    <tr>\n",
       "      <th>housing_median_age</th>\n",
       "      <td>-0.112727</td>\n",
       "      <td>0.015317</td>\n",
       "      <td>1.000000</td>\n",
       "      <td>-0.357016</td>\n",
       "      <td>-0.316551</td>\n",
       "      <td>-0.289966</td>\n",
       "      <td>-0.299949</td>\n",
       "      <td>-0.118115</td>\n",
       "      <td>0.118112</td>\n",
       "    </tr>\n",
       "    <tr>\n",
       "      <th>total_rooms</th>\n",
       "      <td>0.047573</td>\n",
       "      <td>-0.039771</td>\n",
       "      <td>-0.357016</td>\n",
       "      <td>1.000000</td>\n",
       "      <td>0.927298</td>\n",
       "      <td>0.856213</td>\n",
       "      <td>0.918390</td>\n",
       "      <td>0.198847</td>\n",
       "      <td>-0.019839</td>\n",
       "    </tr>\n",
       "    <tr>\n",
       "      <th>total_bedrooms</th>\n",
       "      <td>0.073097</td>\n",
       "      <td>-0.071096</td>\n",
       "      <td>-0.316551</td>\n",
       "      <td>0.927298</td>\n",
       "      <td>1.000000</td>\n",
       "      <td>0.873206</td>\n",
       "      <td>0.973588</td>\n",
       "      <td>-0.006710</td>\n",
       "      <td>-0.019817</td>\n",
       "    </tr>\n",
       "    <tr>\n",
       "      <th>population</th>\n",
       "      <td>0.102550</td>\n",
       "      <td>-0.112355</td>\n",
       "      <td>-0.289966</td>\n",
       "      <td>0.856213</td>\n",
       "      <td>0.873206</td>\n",
       "      <td>1.000000</td>\n",
       "      <td>0.907230</td>\n",
       "      <td>0.004360</td>\n",
       "      <td>-0.075557</td>\n",
       "    </tr>\n",
       "    <tr>\n",
       "      <th>households</th>\n",
       "      <td>0.058759</td>\n",
       "      <td>-0.075429</td>\n",
       "      <td>-0.299949</td>\n",
       "      <td>0.918390</td>\n",
       "      <td>0.973588</td>\n",
       "      <td>0.907230</td>\n",
       "      <td>1.000000</td>\n",
       "      <td>0.013565</td>\n",
       "      <td>-0.022883</td>\n",
       "    </tr>\n",
       "    <tr>\n",
       "      <th>median_income</th>\n",
       "      <td>-0.015380</td>\n",
       "      <td>-0.080261</td>\n",
       "      <td>-0.118115</td>\n",
       "      <td>0.198847</td>\n",
       "      <td>-0.006710</td>\n",
       "      <td>0.004360</td>\n",
       "      <td>0.013565</td>\n",
       "      <td>1.000000</td>\n",
       "      <td>-0.018973</td>\n",
       "    </tr>\n",
       "    <tr>\n",
       "      <th>ocean_proximity_num</th>\n",
       "      <td>-0.290423</td>\n",
       "      <td>0.201329</td>\n",
       "      <td>0.118112</td>\n",
       "      <td>-0.019839</td>\n",
       "      <td>-0.019817</td>\n",
       "      <td>-0.075557</td>\n",
       "      <td>-0.022883</td>\n",
       "      <td>-0.018973</td>\n",
       "      <td>1.000000</td>\n",
       "    </tr>\n",
       "  </tbody>\n",
       "</table>\n",
       "</div>"
      ],
      "text/plain": [
       "                     longitude  latitude  housing_median_age  total_rooms  \\\n",
       "longitude             1.000000 -0.924249           -0.112727     0.047573   \n",
       "latitude             -0.924249  1.000000            0.015317    -0.039771   \n",
       "housing_median_age   -0.112727  0.015317            1.000000    -0.357016   \n",
       "total_rooms           0.047573 -0.039771           -0.357016     1.000000   \n",
       "total_bedrooms        0.073097 -0.071096           -0.316551     0.927298   \n",
       "population            0.102550 -0.112355           -0.289966     0.856213   \n",
       "households            0.058759 -0.075429           -0.299949     0.918390   \n",
       "median_income        -0.015380 -0.080261           -0.118115     0.198847   \n",
       "ocean_proximity_num  -0.290423  0.201329            0.118112    -0.019839   \n",
       "\n",
       "                     total_bedrooms  population  households  median_income  \\\n",
       "longitude                  0.073097    0.102550    0.058759      -0.015380   \n",
       "latitude                  -0.071096   -0.112355   -0.075429      -0.080261   \n",
       "housing_median_age        -0.316551   -0.289966   -0.299949      -0.118115   \n",
       "total_rooms                0.927298    0.856213    0.918390       0.198847   \n",
       "total_bedrooms             1.000000    0.873206    0.973588      -0.006710   \n",
       "population                 0.873206    1.000000    0.907230       0.004360   \n",
       "households                 0.973588    0.907230    1.000000       0.013565   \n",
       "median_income             -0.006710    0.004360    0.013565       1.000000   \n",
       "ocean_proximity_num       -0.019817   -0.075557   -0.022883      -0.018973   \n",
       "\n",
       "                     ocean_proximity_num  \n",
       "longitude                      -0.290423  \n",
       "latitude                        0.201329  \n",
       "housing_median_age              0.118112  \n",
       "total_rooms                    -0.019839  \n",
       "total_bedrooms                 -0.019817  \n",
       "population                     -0.075557  \n",
       "households                     -0.022883  \n",
       "median_income                  -0.018973  \n",
       "ocean_proximity_num             1.000000  "
      ]
     },
     "execution_count": 16,
     "metadata": {},
     "output_type": "execute_result"
    }
   ],
   "source": [
    "corr"
   ]
  },
  {
   "cell_type": "code",
   "execution_count": 17,
   "metadata": {},
   "outputs": [
    {
     "data": {
      "image/png": "[encoded data removed]",
      "text/plain": [
       "<Figure size 864x720 with 2 Axes>"
      ]
     },
     "metadata": {
      "needs_background": "light"
     },
     "output_type": "display_data"
    }
   ],
   "source": [
    "plt.figure(figsize=(12,10))\n",
    "sns.heatmap(corr , annot=True, cmap=plt.cm.CMRmap_r)\n",
    "plt.show()"
   ]
  },
  {
   "cell_type": "code",
   "execution_count": 18,
   "metadata": {},
   "outputs": [],
   "source": [
    "def correlation(ds,threshold):\n",
    "    corr_col = set()\n",
    "    corr_table = ds.corr()\n",
    "    for i in range(len(corr_table.columns)):\n",
    "        for j in range (i):\n",
    "            if corr_table.iloc[i,j] > threshold:\n",
    "                col = corr_table.columns[i]\n",
    "                corr_col.add(col)\n",
    "    return corr_col"
   ]
  },
  {
   "cell_type": "code",
   "execution_count": 19,
   "metadata": {},
   "outputs": [],
   "source": [
    "corr_feats = correlation(X_train,0.90)"
   ]
  },
  {
   "cell_type": "code",
   "execution_count": 20,
   "metadata": {},
   "outputs": [
    {
     "data": {
      "text/plain": [
       "{'households', 'total_bedrooms'}"
      ]
     },
     "execution_count": 20,
     "metadata": {},
     "output_type": "execute_result"
    }
   ],
   "source": [
    "corr_feats"
   ]
  },
  {
   "cell_type": "code",
   "execution_count": 23,
   "metadata": {},
   "outputs": [],
   "source": [
    "X_train = X_train.drop(corr_feats,axis=1)   "
   ]
  },
  {
   "cell_type": "code",
   "execution_count": 24,
   "metadata": {},
   "outputs": [
    {
     "data": {
      "text/html": [
       "<div>\n",
       "<style scoped>\n",
       "    .dataframe tbody tr th:only-of-type {\n",
       "        vertical-align: middle;\n",
       "    }\n",
       "\n",
       "    .dataframe tbody tr th {\n",
       "        vertical-align: top;\n",
       "    }\n",
       "\n",
       "    .dataframe thead th {\n",
       "        text-align: right;\n",
       "    }\n",
       "</style>\n",
       "<table border=\"1\" class=\"dataframe\">\n",
       "  <thead>\n",
       "    <tr style=\"text-align: right;\">\n",
       "      <th></th>\n",
       "      <th>longitude</th>\n",
       "      <th>latitude</th>\n",
       "      <th>housing_median_age</th>\n",
       "      <th>total_rooms</th>\n",
       "      <th>population</th>\n",
       "      <th>median_income</th>\n",
       "      <th>ocean_proximity_num</th>\n",
       "    </tr>\n",
       "  </thead>\n",
       "  <tbody>\n",
       "    <tr>\n",
       "      <th>10705</th>\n",
       "      <td>-117.72</td>\n",
       "      <td>33.61</td>\n",
       "      <td>26.0</td>\n",
       "      <td>2033.0</td>\n",
       "      <td>618.0</td>\n",
       "      <td>2.5685</td>\n",
       "      <td>0.0</td>\n",
       "    </tr>\n",
       "    <tr>\n",
       "      <th>7813</th>\n",
       "      <td>-118.11</td>\n",
       "      <td>33.90</td>\n",
       "      <td>35.0</td>\n",
       "      <td>2604.0</td>\n",
       "      <td>1465.0</td>\n",
       "      <td>4.4896</td>\n",
       "      <td>0.0</td>\n",
       "    </tr>\n",
       "    <tr>\n",
       "      <th>12420</th>\n",
       "      <td>-116.20</td>\n",
       "      <td>33.70</td>\n",
       "      <td>26.0</td>\n",
       "      <td>2399.0</td>\n",
       "      <td>2654.0</td>\n",
       "      <td>2.2989</td>\n",
       "      <td>1.0</td>\n",
       "    </tr>\n",
       "    <tr>\n",
       "      <th>16681</th>\n",
       "      <td>-120.56</td>\n",
       "      <td>35.13</td>\n",
       "      <td>15.0</td>\n",
       "      <td>5818.0</td>\n",
       "      <td>2324.0</td>\n",
       "      <td>4.4033</td>\n",
       "      <td>0.0</td>\n",
       "    </tr>\n",
       "    <tr>\n",
       "      <th>3968</th>\n",
       "      <td>-118.58</td>\n",
       "      <td>34.20</td>\n",
       "      <td>35.0</td>\n",
       "      <td>1558.0</td>\n",
       "      <td>793.0</td>\n",
       "      <td>5.1463</td>\n",
       "      <td>0.0</td>\n",
       "    </tr>\n",
       "    <tr>\n",
       "      <th>...</th>\n",
       "      <td>...</td>\n",
       "      <td>...</td>\n",
       "      <td>...</td>\n",
       "      <td>...</td>\n",
       "      <td>...</td>\n",
       "      <td>...</td>\n",
       "      <td>...</td>\n",
       "    </tr>\n",
       "    <tr>\n",
       "      <th>9085</th>\n",
       "      <td>-118.17</td>\n",
       "      <td>34.67</td>\n",
       "      <td>5.0</td>\n",
       "      <td>8352.0</td>\n",
       "      <td>3723.0</td>\n",
       "      <td>4.5659</td>\n",
       "      <td>1.0</td>\n",
       "    </tr>\n",
       "    <tr>\n",
       "      <th>3402</th>\n",
       "      <td>-118.35</td>\n",
       "      <td>34.27</td>\n",
       "      <td>32.0</td>\n",
       "      <td>604.0</td>\n",
       "      <td>314.0</td>\n",
       "      <td>6.2037</td>\n",
       "      <td>0.0</td>\n",
       "    </tr>\n",
       "    <tr>\n",
       "      <th>9792</th>\n",
       "      <td>-121.87</td>\n",
       "      <td>36.55</td>\n",
       "      <td>20.0</td>\n",
       "      <td>10053.0</td>\n",
       "      <td>3083.0</td>\n",
       "      <td>5.1506</td>\n",
       "      <td>4.0</td>\n",
       "    </tr>\n",
       "    <tr>\n",
       "      <th>8375</th>\n",
       "      <td>-118.35</td>\n",
       "      <td>33.95</td>\n",
       "      <td>28.0</td>\n",
       "      <td>4770.0</td>\n",
       "      <td>3201.0</td>\n",
       "      <td>2.6810</td>\n",
       "      <td>0.0</td>\n",
       "    </tr>\n",
       "    <tr>\n",
       "      <th>17427</th>\n",
       "      <td>-120.47</td>\n",
       "      <td>34.65</td>\n",
       "      <td>32.0</td>\n",
       "      <td>2193.0</td>\n",
       "      <td>1074.0</td>\n",
       "      <td>2.3333</td>\n",
       "      <td>4.0</td>\n",
       "    </tr>\n",
       "  </tbody>\n",
       "</table>\n",
       "<p>16512 rows × 7 columns</p>\n",
       "</div>"
      ],
      "text/plain": [
       "       longitude  latitude  housing_median_age  total_rooms  population  \\\n",
       "10705    -117.72     33.61                26.0       2033.0       618.0   \n",
       "7813     -118.11     33.90                35.0       2604.0      1465.0   \n",
       "12420    -116.20     33.70                26.0       2399.0      2654.0   \n",
       "16681    -120.56     35.13                15.0       5818.0      2324.0   \n",
       "3968     -118.58     34.20                35.0       1558.0       793.0   \n",
       "...          ...       ...                 ...          ...         ...   \n",
       "9085     -118.17     34.67                 5.0       8352.0      3723.0   \n",
       "3402     -118.35     34.27                32.0        604.0       314.0   \n",
       "9792     -121.87     36.55                20.0      10053.0      3083.0   \n",
       "8375     -118.35     33.95                28.0       4770.0      3201.0   \n",
       "17427    -120.47     34.65                32.0       2193.0      1074.0   \n",
       "\n",
       "       median_income  ocean_proximity_num  \n",
       "10705         2.5685                  0.0  \n",
       "7813          4.4896                  0.0  \n",
       "12420         2.2989                  1.0  \n",
       "16681         4.4033                  0.0  \n",
       "3968          5.1463                  0.0  \n",
       "...              ...                  ...  \n",
       "9085          4.5659                  1.0  \n",
       "3402          6.2037                  0.0  \n",
       "9792          5.1506                  4.0  \n",
       "8375          2.6810                  0.0  \n",
       "17427         2.3333                  4.0  \n",
       "\n",
       "[16512 rows x 7 columns]"
      ]
     },
     "execution_count": 24,
     "metadata": {},
     "output_type": "execute_result"
    }
   ],
   "source": [
    "X_train"
   ]
  },
  {
   "cell_type": "code",
   "execution_count": 25,
   "metadata": {},
   "outputs": [],
   "source": [
    "X_test = X_test.drop(corr_feats,axis=1)"
   ]
  },
  {
   "cell_type": "code",
   "execution_count": 26,
   "metadata": {},
   "outputs": [
    {
     "data": {
      "text/html": [
       "<div>\n",
       "<style scoped>\n",
       "    .dataframe tbody tr th:only-of-type {\n",
       "        vertical-align: middle;\n",
       "    }\n",
       "\n",
       "    .dataframe tbody tr th {\n",
       "        vertical-align: top;\n",
       "    }\n",
       "\n",
       "    .dataframe thead th {\n",
       "        text-align: right;\n",
       "    }\n",
       "</style>\n",
       "<table border=\"1\" class=\"dataframe\">\n",
       "  <thead>\n",
       "    <tr style=\"text-align: right;\">\n",
       "      <th></th>\n",
       "      <th>longitude</th>\n",
       "      <th>latitude</th>\n",
       "      <th>housing_median_age</th>\n",
       "      <th>total_rooms</th>\n",
       "      <th>population</th>\n",
       "      <th>median_income</th>\n",
       "      <th>ocean_proximity_num</th>\n",
       "    </tr>\n",
       "  </thead>\n",
       "  <tbody>\n",
       "    <tr>\n",
       "      <th>19610</th>\n",
       "      <td>-121.14</td>\n",
       "      <td>37.48</td>\n",
       "      <td>6.0</td>\n",
       "      <td>1772.0</td>\n",
       "      <td>1011.0</td>\n",
       "      <td>3.7045</td>\n",
       "      <td>1.0</td>\n",
       "    </tr>\n",
       "    <tr>\n",
       "      <th>10980</th>\n",
       "      <td>-117.84</td>\n",
       "      <td>33.77</td>\n",
       "      <td>26.0</td>\n",
       "      <td>3350.0</td>\n",
       "      <td>1314.0</td>\n",
       "      <td>3.5195</td>\n",
       "      <td>0.0</td>\n",
       "    </tr>\n",
       "    <tr>\n",
       "      <th>6318</th>\n",
       "      <td>-117.97</td>\n",
       "      <td>34.01</td>\n",
       "      <td>33.0</td>\n",
       "      <td>2006.0</td>\n",
       "      <td>1410.0</td>\n",
       "      <td>3.7083</td>\n",
       "      <td>0.0</td>\n",
       "    </tr>\n",
       "    <tr>\n",
       "      <th>8578</th>\n",
       "      <td>-118.41</td>\n",
       "      <td>33.89</td>\n",
       "      <td>35.0</td>\n",
       "      <td>1194.0</td>\n",
       "      <td>507.0</td>\n",
       "      <td>9.0812</td>\n",
       "      <td>0.0</td>\n",
       "    </tr>\n",
       "    <tr>\n",
       "      <th>8084</th>\n",
       "      <td>-118.19</td>\n",
       "      <td>33.81</td>\n",
       "      <td>23.0</td>\n",
       "      <td>954.0</td>\n",
       "      <td>804.0</td>\n",
       "      <td>2.5833</td>\n",
       "      <td>4.0</td>\n",
       "    </tr>\n",
       "    <tr>\n",
       "      <th>...</th>\n",
       "      <td>...</td>\n",
       "      <td>...</td>\n",
       "      <td>...</td>\n",
       "      <td>...</td>\n",
       "      <td>...</td>\n",
       "      <td>...</td>\n",
       "      <td>...</td>\n",
       "    </tr>\n",
       "    <tr>\n",
       "      <th>11590</th>\n",
       "      <td>-118.01</td>\n",
       "      <td>33.78</td>\n",
       "      <td>26.0</td>\n",
       "      <td>2343.0</td>\n",
       "      <td>1166.0</td>\n",
       "      <td>6.0000</td>\n",
       "      <td>0.0</td>\n",
       "    </tr>\n",
       "    <tr>\n",
       "      <th>7023</th>\n",
       "      <td>-118.10</td>\n",
       "      <td>33.98</td>\n",
       "      <td>33.0</td>\n",
       "      <td>1927.0</td>\n",
       "      <td>1623.0</td>\n",
       "      <td>3.5268</td>\n",
       "      <td>0.0</td>\n",
       "    </tr>\n",
       "    <tr>\n",
       "      <th>18882</th>\n",
       "      <td>-122.25</td>\n",
       "      <td>38.10</td>\n",
       "      <td>52.0</td>\n",
       "      <td>1780.0</td>\n",
       "      <td>824.0</td>\n",
       "      <td>2.7500</td>\n",
       "      <td>3.0</td>\n",
       "    </tr>\n",
       "    <tr>\n",
       "      <th>11217</th>\n",
       "      <td>-117.93</td>\n",
       "      <td>33.80</td>\n",
       "      <td>34.0</td>\n",
       "      <td>3903.0</td>\n",
       "      <td>2054.0</td>\n",
       "      <td>4.2731</td>\n",
       "      <td>0.0</td>\n",
       "    </tr>\n",
       "    <tr>\n",
       "      <th>16403</th>\n",
       "      <td>-121.19</td>\n",
       "      <td>38.04</td>\n",
       "      <td>35.0</td>\n",
       "      <td>703.0</td>\n",
       "      <td>290.0</td>\n",
       "      <td>3.2250</td>\n",
       "      <td>1.0</td>\n",
       "    </tr>\n",
       "  </tbody>\n",
       "</table>\n",
       "<p>4128 rows × 7 columns</p>\n",
       "</div>"
      ],
      "text/plain": [
       "       longitude  latitude  housing_median_age  total_rooms  population  \\\n",
       "19610    -121.14     37.48                 6.0       1772.0      1011.0   \n",
       "10980    -117.84     33.77                26.0       3350.0      1314.0   \n",
       "6318     -117.97     34.01                33.0       2006.0      1410.0   \n",
       "8578     -118.41     33.89                35.0       1194.0       507.0   \n",
       "8084     -118.19     33.81                23.0        954.0       804.0   \n",
       "...          ...       ...                 ...          ...         ...   \n",
       "11590    -118.01     33.78                26.0       2343.0      1166.0   \n",
       "7023     -118.10     33.98                33.0       1927.0      1623.0   \n",
       "18882    -122.25     38.10                52.0       1780.0       824.0   \n",
       "11217    -117.93     33.80                34.0       3903.0      2054.0   \n",
       "16403    -121.19     38.04                35.0        703.0       290.0   \n",
       "\n",
       "       median_income  ocean_proximity_num  \n",
       "19610         3.7045                  1.0  \n",
       "10980         3.5195                  0.0  \n",
       "6318          3.7083                  0.0  \n",
       "8578          9.0812                  0.0  \n",
       "8084          2.5833                  4.0  \n",
       "...              ...                  ...  \n",
       "11590         6.0000                  0.0  \n",
       "7023          3.5268                  0.0  \n",
       "18882         2.7500                  3.0  \n",
       "11217         4.2731                  0.0  \n",
       "16403         3.2250                  1.0  \n",
       "\n",
       "[4128 rows x 7 columns]"
      ]
     },
     "execution_count": 26,
     "metadata": {},
     "output_type": "execute_result"
    }
   ],
   "source": [
    "X_test"
   ]
  },
  {
   "cell_type": "code",
   "execution_count": 27,
   "metadata": {},
   "outputs": [],
   "source": [
    "import xgboost"
   ]
  },
  {
   "cell_type": "code",
   "execution_count": 28,
   "metadata": {},
   "outputs": [
    {
     "data": {
      "text/plain": [
       "XGBRegressor(base_score=0.5, booster='gbtree', colsample_bylevel=1,\n",
       "             colsample_bynode=1, colsample_bytree=1, enable_categorical=False,\n",
       "             gamma=0, gpu_id=-1, importance_type=None,\n",
       "             interaction_constraints='', learning_rate=0.300000012,\n",
       "             max_delta_step=0, max_depth=6, min_child_weight=1, missing=nan,\n",
       "             monotone_constraints='()', n_estimators=100, n_jobs=8,\n",
       "             num_parallel_tree=1, predictor='auto', random_state=0, reg_alpha=0,\n",
       "             reg_lambda=1, scale_pos_weight=1, subsample=1, tree_method='exact',\n",
       "             validate_parameters=1, verbosity=None)"
      ]
     },
     "execution_count": 28,
     "metadata": {},
     "output_type": "execute_result"
    }
   ],
   "source": [
    "grad_model = xgboost.XGBRegressor()\n",
    "grad_model.fit(X_train,Y_train)"
   ]
  },
  {
   "cell_type": "code",
   "execution_count": 29,
   "metadata": {},
   "outputs": [],
   "source": [
    "Y_grad_model_pred = grad_model.predict(X_test)"
   ]
  },
  {
   "cell_type": "code",
   "execution_count": 32,
   "metadata": {},
   "outputs": [
    {
     "data": {
      "text/plain": [
       "0.8337747543085585"
      ]
     },
     "execution_count": 32,
     "metadata": {},
     "output_type": "execute_result"
    }
   ],
   "source": [
    "grad_model.score(X_test,Y_test)"
   ]
  },
  {
   "cell_type": "code",
   "execution_count": 33,
   "metadata": {},
   "outputs": [],
   "source": [
    "# Xgboost score after dropping correlated columns : 0.8337747543085585"
   ]
  }
 ],
 "metadata": {
  "kernelspec": {
   "display_name": "Python 3",
   "language": "python",
   "name": "python3"
  },
  "language_info": {
   "codemirror_mode": {
    "name": "ipython",
    "version": 3
   },
   "file_extension": ".py",
   "mimetype": "text/x-python",
   "name": "python",
   "nbconvert_exporter": "python",
   "pygments_lexer": "ipython3",
   "version": "3.8.5"
  }
 },
 "nbformat": 4,
 "nbformat_minor": 4
}
